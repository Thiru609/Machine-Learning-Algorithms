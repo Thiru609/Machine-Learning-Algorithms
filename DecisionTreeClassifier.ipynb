{
  "nbformat": 4,
  "nbformat_minor": 0,
  "metadata": {
    "colab": {
      "name": "DecisionTreeClassifier.ipynb",
      "provenance": [],
      "authorship_tag": "ABX9TyO9Yr62sHsuSfVHvwHGbIzq",
      "include_colab_link": true
    },
    "kernelspec": {
      "name": "python3",
      "display_name": "Python 3"
    },
    "language_info": {
      "name": "python"
    }
  },
  "cells": [
    {
      "cell_type": "markdown",
      "metadata": {
        "id": "view-in-github",
        "colab_type": "text"
      },
      "source": [
        "<a href=\"https://colab.research.google.com/github/Thiru609/Machine-Learning-Algorithms/blob/main/DecisionTreeClassifier.ipynb\" target=\"_parent\"><img src=\"https://colab.research.google.com/assets/colab-badge.svg\" alt=\"Open In Colab\"/></a>"
      ]
    },
    {
      "cell_type": "code",
      "metadata": {
        "colab": {
          "base_uri": "https://localhost:8080/"
        },
        "id": "jZkFpmUKC7A4",
        "outputId": "1c3b3f03-f963-413e-d571-60c3b173d0a3"
      },
      "source": [
        "from sklearn.datasets import load_breast_cancer\n",
        "from sklearn.model_selection import train_test_split\n",
        "from sklearn.metrics import precision_score, recall_score, confusion_matrix, classification_report\n",
        "from sklearn.tree import DecisionTreeClassifier\n",
        "\n",
        "data = load_breast_cancer()\n",
        "x = data[\"data\"]\n",
        "y = data[\"target\"]\n",
        "x_train, x_test, y_train, y_test = train_test_split(x, y, test_size=0.1)\n",
        "\n",
        "dc = DecisionTreeClassifier()\n",
        "dc.fit(x_train, y_train)\n",
        "\n",
        "y_pred = dc.predict(x_test)\n",
        "\n",
        "cf = confusion_matrix(y_test, y_pred)\n",
        "ps = precision_score(y_test, y_pred)\n",
        "rs = recall_score(y_test, y_pred)\n",
        "ss = cf[0, 0]/cf[0, :].sum()\n",
        "print(cf)\n",
        "print(\"Precision : \", ps)\n",
        "print(\"Recall : \", rs)\n",
        "print(\"Specificity : \", ss)"
      ],
      "execution_count": 1,
      "outputs": [
        {
          "output_type": "stream",
          "text": [
            "[[18  2]\n",
            " [ 2 35]]\n",
            "Precision :  0.9459459459459459\n",
            "Recall :  0.9459459459459459\n",
            "Specificity :  0.9\n"
          ],
          "name": "stdout"
        }
      ]
    }
  ]
}
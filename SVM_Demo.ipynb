{
  "nbformat": 4,
  "nbformat_minor": 0,
  "metadata": {
    "colab": {
      "name": "SVM_Demo.ipynb",
      "provenance": [],
      "authorship_tag": "ABX9TyPHiFTAHunxYNefCTvybmOy",
      "include_colab_link": true
    },
    "kernelspec": {
      "name": "python3",
      "display_name": "Python 3"
    },
    "language_info": {
      "name": "python"
    }
  },
  "cells": [
    {
      "cell_type": "markdown",
      "metadata": {
        "id": "view-in-github",
        "colab_type": "text"
      },
      "source": [
        "<a href=\"https://colab.research.google.com/github/Thiru609/Machine-Learning-Algorithms/blob/main/SVM_Demo.ipynb\" target=\"_parent\"><img src=\"https://colab.research.google.com/assets/colab-badge.svg\" alt=\"Open In Colab\"/></a>"
      ]
    },
    {
      "cell_type": "markdown",
      "metadata": {
        "id": "nl_FIyAR7hM2"
      },
      "source": [
        "**Thirumurugan A**\n",
        "Support Vector Machines"
      ]
    },
    {
      "cell_type": "code",
      "metadata": {
        "colab": {
          "base_uri": "https://localhost:8080/"
        },
        "id": "A2biTiPE7pEQ",
        "outputId": "98275606-db74-4282-effc-03173d626023"
      },
      "source": [
        "import matplotlib.pyplot as plt\n",
        "from sklearn.datasets import load_digits\n",
        "import numpy as np\n",
        "import random\n",
        "%matplotlib inline\n",
        "\n",
        "digits = load_digits()\n",
        "X = digits.data\n",
        "y = digits.target\n",
        "print(digits.images.shape)\n",
        "print(digits.data.shape)"
      ],
      "execution_count": null,
      "outputs": [
        {
          "output_type": "stream",
          "text": [
            "(1797, 8, 8)\n",
            "(1797, 64)\n"
          ],
          "name": "stdout"
        }
      ]
    },
    {
      "cell_type": "code",
      "metadata": {
        "colab": {
          "base_uri": "https://localhost:8080/"
        },
        "id": "0BdWfsv-8pSS",
        "outputId": "aac3215e-2a5f-4414-f4d9-40624a655988"
      },
      "source": [
        "from sklearn.decomposition import PCA\n",
        "pca = PCA(n_components=2)\n",
        "reduced_data_pca = pca.fit_transform(digits.data)\n",
        "reduced_data_pca.shape\n",
        "print(reduced_data_pca)"
      ],
      "execution_count": null,
      "outputs": [
        {
          "output_type": "stream",
          "text": [
            "[[ -1.25946695  21.27487901]\n",
            " [  7.95760828 -20.76871491]\n",
            " [  6.99192552  -9.9559734 ]\n",
            " ...\n",
            " [ 10.80128393  -6.96025086]\n",
            " [ -4.87210155  12.42394184]\n",
            " [ -0.34438748   6.36556195]]\n"
          ],
          "name": "stdout"
        }
      ]
    },
    {
      "cell_type": "code",
      "metadata": {
        "colab": {
          "base_uri": "https://localhost:8080/",
          "height": 224
        },
        "id": "OCi4u2i38u1o",
        "outputId": "bf135269-e043-4659-bddc-143f610fc547"
      },
      "source": [
        "random_examples = [random.randint(0,len(digits.images)) for i in range(10)]\n",
        "\n",
        "for n,number in enumerate(random_examples):\n",
        "    plt.subplot(2, 5, n+1)\n",
        "    plt.imshow(digits.images[number],cmap='binary', interpolation='none', extent=[0,8,0,8])\n",
        "\n",
        "plt.grid()\n",
        "plt.show()"
      ],
      "execution_count": null,
      "outputs": [
        {
          "output_type": "display_data",
          "data": {
            "image/png": "[encoded data removed]",
            "text/plain": [
              "<Figure size 432x288 with 10 Axes>"
            ]
          },
          "metadata": {
            "tags": [],
            "needs_background": "light"
          }
        }
      ]
    },
    {
      "cell_type": "code",
      "metadata": {
        "colab": {
          "base_uri": "https://localhost:8080/"
        },
        "id": "_OgCCHYR82KB",
        "outputId": "3edc32e4-a026-4377-bf1c-807ebd3b1aef"
      },
      "source": [
        "from sklearn.model_selection import train_test_split\n",
        "X_train, X_test, y_train, y_test = train_test_split(X, y, test_size=0.2)\n",
        "from sklearn.preprocessing import MinMaxScaler\n",
        "scaling = MinMaxScaler(feature_range=(-1, 1)).fit(X_train)\n",
        "X_train = scaling.transform(X_train)\n",
        "X_train"
      ],
      "execution_count": null,
      "outputs": [
        {
          "output_type": "execute_result",
          "data": {
            "text/plain": [
              "array([[-1.   , -1.   , -1.   , ...,  1.   ,  0.75 , -1.   ],\n",
              "       [-1.   , -1.   ,  0.125, ...,  1.   ,  1.   ,  0.5  ],\n",
              "       [-1.   , -1.   ,  0.25 , ..., -1.   , -1.   , -1.   ],\n",
              "       ...,\n",
              "       [-1.   , -0.5  ,  0.75 , ...,  0.875,  0.   , -1.   ],\n",
              "       [-1.   , -1.   , -1.   , ...,  1.   ,  0.375, -1.   ],\n",
              "       [-1.   , -1.   , -1.   , ...,  0.375, -0.875, -1.   ]])"
            ]
          },
          "metadata": {
            "tags": []
          },
          "execution_count": 8
        }
      ]
    },
    {
      "cell_type": "code",
      "metadata": {
        "colab": {
          "base_uri": "https://localhost:8080/"
        },
        "id": "22d9WJaD9Txa",
        "outputId": "791ee0b3-7a92-4233-b77a-0568bc6f15a2"
      },
      "source": [
        "X_test = scaling.transform(X_test)\n",
        "X_test"
      ],
      "execution_count": null,
      "outputs": [
        {
          "output_type": "execute_result",
          "data": {
            "text/plain": [
              "array([[-1.   , -1.   ,  0.125, ..., -1.   , -1.   , -1.   ],\n",
              "       [-1.   , -1.   , -1.   , ..., -1.   , -1.   , -1.   ],\n",
              "       [-1.   , -1.   , -0.25 , ...,  0.5  , -0.875, -1.   ],\n",
              "       ...,\n",
              "       [-1.   , -0.75 ,  0.125, ..., -0.875, -1.   , -1.   ],\n",
              "       [-1.   , -1.   , -1.   , ...,  0.625, -0.875, -1.   ],\n",
              "       [-1.   , -1.   , -0.75 , ...,  1.   , -0.5  , -1.   ]])"
            ]
          },
          "metadata": {
            "tags": []
          },
          "execution_count": 9
        }
      ]
    },
    {
      "cell_type": "code",
      "metadata": {
        "colab": {
          "base_uri": "https://localhost:8080/"
        },
        "id": "jKO3SKQr9W50",
        "outputId": "651d95db-041d-4ec7-d132-1b5722733b8e"
      },
      "source": [
        "from sklearn.svm import SVC\n",
        "svm = SVC(kernel='linear')\n",
        "clf = svm.fit(X_train, y_train)\n",
        "scr = clf.score(X_test, y_test)\n",
        "scr"
      ],
      "execution_count": null,
      "outputs": [
        {
          "output_type": "execute_result",
          "data": {
            "text/plain": [
              "0.9833333333333333"
            ]
          },
          "metadata": {
            "tags": []
          },
          "execution_count": 10
        }
      ]
    },
    {
      "cell_type": "code",
      "metadata": {
        "colab": {
          "base_uri": "https://localhost:8080/"
        },
        "id": "JriDeFRa9bSz",
        "outputId": "03e3e3b9-bf29-45ba-d699-95a61dda6441"
      },
      "source": [
        "svm2 = SVC(kernel='rbf')\n",
        "clf2 = svm2.fit(X_train, y_train)\n",
        "scr2 = clf2.score(X_test, y_test)\n",
        "scr2"
      ],
      "execution_count": null,
      "outputs": [
        {
          "output_type": "execute_result",
          "data": {
            "text/plain": [
              "0.9861111111111112"
            ]
          },
          "metadata": {
            "tags": []
          },
          "execution_count": 11
        }
      ]
    },
    {
      "cell_type": "code",
      "metadata": {
        "colab": {
          "base_uri": "https://localhost:8080/"
        },
        "id": "N0nylhag9e3N",
        "outputId": "a818cd19-6ab0-4d37-d288-7637e95cafcf"
      },
      "source": [
        "svm3 = SVC(kernel='poly', degree=3, gamma=0.09)\n",
        "clf3 = svm3.fit(X_train, y_train)\n",
        "scr3 = clf3.score(X_test, y_test)\n",
        "scr3"
      ],
      "execution_count": null,
      "outputs": [
        {
          "output_type": "execute_result",
          "data": {
            "text/plain": [
              "0.9944444444444445"
            ]
          },
          "metadata": {
            "tags": []
          },
          "execution_count": 12
        }
      ]
    },
    {
      "cell_type": "code",
      "metadata": {
        "colab": {
          "base_uri": "https://localhost:8080/"
        },
        "id": "D2Cwxu7T9wdq",
        "outputId": "72a32a14-b6e0-4bf2-e157-35b68a0efb26"
      },
      "source": [
        "svm4 = SVC(kernel='rbf', gamma=0.1, C=100)\n",
        "clf4 = svm4.fit(X_train, y_train)\n",
        "scr4 = clf4.score(X_test, y_test)\n",
        "scr4"
      ],
      "execution_count": null,
      "outputs": [
        {
          "output_type": "execute_result",
          "data": {
            "text/plain": [
              "0.9916666666666667"
            ]
          },
          "metadata": {
            "tags": []
          },
          "execution_count": 15
        }
      ]
    },
    {
      "cell_type": "code",
      "metadata": {
        "colab": {
          "base_uri": "https://localhost:8080/"
        },
        "id": "LI8rq4rV947t",
        "outputId": "eaae5e6c-53da-44b3-8fc1-7dbe56e91e59"
      },
      "source": [
        "y_pred = clf4.predict(X_test)\n",
        "from sklearn import metrics\n",
        "print(f\"Classification report for classifier {clf4}:\\n\" f\"{metrics.classification_report(y_test, y_pred)}\\n\")"
      ],
      "execution_count": null,
      "outputs": [
        {
          "output_type": "stream",
          "text": [
            "Classification report for classifier SVC(C=100, break_ties=False, cache_size=200, class_weight=None, coef0=0.0,\n",
            "    decision_function_shape='ovr', degree=3, gamma=0.1, kernel='rbf',\n",
            "    max_iter=-1, probability=False, random_state=None, shrinking=True,\n",
            "    tol=0.001, verbose=False):\n",
            "              precision    recall  f1-score   support\n",
            "\n",
            "           0       1.00      1.00      1.00        34\n",
            "           1       0.98      1.00      0.99        40\n",
            "           2       1.00      1.00      1.00        34\n",
            "           3       1.00      1.00      1.00        41\n",
            "           4       1.00      1.00      1.00        31\n",
            "           5       1.00      0.96      0.98        27\n",
            "           6       0.96      1.00      0.98        26\n",
            "           7       1.00      0.98      0.99        43\n",
            "           8       1.00      1.00      1.00        41\n",
            "           9       0.98      0.98      0.98        43\n",
            "\n",
            "    accuracy                           0.99       360\n",
            "   macro avg       0.99      0.99      0.99       360\n",
            "weighted avg       0.99      0.99      0.99       360\n",
            "\n",
            "\n"
          ],
          "name": "stdout"
        }
      ]
    },
    {
      "cell_type": "code",
      "metadata": {
        "colab": {
          "base_uri": "https://localhost:8080/",
          "height": 326
        },
        "id": "Xql2wNN8-BzR",
        "outputId": "78abb25c-b3f8-4ac8-e1b9-e7d1fbc55abb"
      },
      "source": [
        "disp = metrics.plot_confusion_matrix(clf4, X_test, y_test)\n",
        "disp.figure_.suptitle(\"Confusion Matrix\")\n",
        "plt.show"
      ],
      "execution_count": null,
      "outputs": [
        {
          "output_type": "execute_result",
          "data": {
            "text/plain": [
              "<function matplotlib.pyplot.show>"
            ]
          },
          "metadata": {
            "tags": []
          },
          "execution_count": 17
        },
        {
          "output_type": "display_data",
          "data": {
            "image/png": "[encoded data removed]",
            "text/plain": [
              "<Figure size 432x288 with 2 Axes>"
            ]
          },
          "metadata": {
            "tags": [],
            "needs_background": "light"
          }
        }
      ]
    }
  ]
}